{
 "cells": [
  {
   "cell_type": "code",
   "execution_count": 3,
   "metadata": {
    "scrolled": true
   },
   "outputs": [],
   "source": [
    "# step 1: PIP Install googletrans\n",
    "# step 2: PIP Install pytesseract\n",
    "# step 3: Install pytesseract and run tesseract.exe and set the insatll path over these line \"tess.pytesseract.tesseract_cmd\"\n",
    "# step 4: set the image path over this line ==> 'Image.open('text.png')''"
   ]
  },
  {
   "cell_type": "code",
   "execution_count": 4,
   "metadata": {},
   "outputs": [
    {
     "name": "stdout",
     "output_type": "stream",
     "text": [
      "original img text \n",
      "\n",
      "This is the first line of\n",
      "this text example.\n",
      "\n",
      "This is the second line\n",
      "of the same text.\n",
      "\n",
      " Translated img text \n",
      "\n",
      "આ પ્રથમ વાક્ય છે\n",
      "આ લખાણ ઉદાહરણ છે.\n",
      "\n",
      "આ બીજી લાઇન છે\n",
      "એ જ લખાણ.\n"
     ]
    }
   ],
   "source": [
    "# import the necessary packages\n",
    "from googletrans import Translator\n",
    "import pytesseract as tess\n",
    "tess.pytesseract.tesseract_cmd = r'C:\\Users\\abc\\AppData\\Local\\Tesseract-OCR\\tesseract.exe'\n",
    "from PIL import Image\n",
    "\n",
    "img = Image.open('text.png')\n",
    "text = tess.image_to_string(img)\n",
    "print(\"original img text \\n\")\n",
    "print(text)\n",
    "sentence=str(text)\n",
    "translator=Translator()\n",
    "translated_sentence=translator.translate(sentence,src='en',dest='gu')\n",
    "print(\"\\n Translated img text \\n\")\n",
    "print(translated_sentence.text)"
   ]
  },
  {
   "cell_type": "code",
   "execution_count": null,
   "metadata": {},
   "outputs": [],
   "source": []
  }
 ],
 "metadata": {
  "kernelspec": {
   "display_name": "Python 3",
   "language": "python",
   "name": "python3"
  },
  "language_info": {
   "codemirror_mode": {
    "name": "ipython",
    "version": 3
   },
   "file_extension": ".py",
   "mimetype": "text/x-python",
   "name": "python",
   "nbconvert_exporter": "python",
   "pygments_lexer": "ipython3",
   "version": "3.7.6"
  }
 },
 "nbformat": 4,
 "nbformat_minor": 4
}
